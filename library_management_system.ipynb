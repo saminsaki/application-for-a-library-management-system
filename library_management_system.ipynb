{
 "cells": [
  {
   "cell_type": "markdown",
   "id": "4c05e14d-2613-4bef-a5d0-d32e4cb049d7",
   "metadata": {},
   "source": [
    "<h1>Exercise 20</h1>"
   ]
  },
  {
   "cell_type": "markdown",
   "id": "449d08eb-1444-4e0d-a289-fcc745e2a2cd",
   "metadata": {},
   "source": [
    "<h3>Person Class</h3>"
   ]
  },
  {
   "cell_type": "code",
   "execution_count": 2,
   "id": "d2794eea-acf4-4a43-912d-6b5a5c060437",
   "metadata": {},
   "outputs": [],
   "source": [
    "from abc import ABC, abstractmethod\n",
    "\n",
    "\n",
    "class Person(ABC):\n",
    "    def __init__(self, name, age, id_):\n",
    "        self.name = name\n",
    "        self.age = age\n",
    "        self.id_ = id_\n",
    "\n",
    "    @abstractmethod\n",
    "    def introduce(self):\n",
    "        pass\n",
    "\n",
    "    def __str__(self):\n",
    "        return f\"{self.__class__.__name__}(Name: {self.name}, Age: {self.age}, ID: {self.id_})\""
   ]
  },
  {
   "cell_type": "markdown",
   "id": "72446bc8-fb06-4d1c-81da-c4424a82a703",
   "metadata": {},
   "source": [
    "<h3>Librarian Class</h3>"
   ]
  },
  {
   "cell_type": "code",
   "execution_count": 3,
   "id": "dfcd7059-633e-4095-aa24-54ef6ccd4c51",
   "metadata": {},
   "outputs": [],
   "source": [
    "class Librarian(Person):\n",
    "    last_id = 1000\n",
    "    def __init__(self, name, age, employee_id):\n",
    "        id_ = \"L\" + str(Librarian.last_id)\n",
    "        super().__init__(name, age, id_)\n",
    "        self.employee_id = employee_id\n",
    "        Librarian.last_id += 1\n",
    "\n",
    "    def introduce(self):\n",
    "        return f\"Librarian {self.name} Id: {self.employee_id}\""
   ]
  },
  {
   "cell_type": "markdown",
   "id": "84f1c1da-58fb-4233-8ac3-619afccd76ea",
   "metadata": {},
   "source": [
    "<h3>Member Class</h3>"
   ]
  },
  {
   "cell_type": "code",
   "execution_count": 4,
   "id": "ff45053b-4e35-4279-a95e-73bb9e07886d",
   "metadata": {},
   "outputs": [],
   "source": [
    "\n",
    "class Member(Person):\n",
    "    last_id = 1000\n",
    "    def __init__(self, name, age, member_id):\n",
    "        id_ = \"M\" + str(Member.last_id)\n",
    "        super().__init__(name, age, id_)\n",
    "        self.member_id = member_id\n",
    "        Member.last_id += 1\n",
    "\n",
    "    def introduce(self):\n",
    "        return f\"Member {self.name} Id: {self.member_id}\""
   ]
  },
  {
   "cell_type": "markdown",
   "id": "e73573f9-ee57-42e2-bf04-44b34ca76b3c",
   "metadata": {},
   "source": [
    "<h3>Book class</h3>"
   ]
  },
  {
   "cell_type": "code",
   "execution_count": 5,
   "id": "dcac095d-383a-4db7-8e15-2347a74536d1",
   "metadata": {},
   "outputs": [],
   "source": [
    "class Book:\n",
    "    def __init__(self, id_, title, author, isbn):\n",
    "        self.id_ = id_\n",
    "        self.title = title\n",
    "        self.author = author\n",
    "        self.__isbn = isbn\n",
    "\n",
    "    def __str__(self):\n",
    "        return f\"Book: {self.title} by {self.author}\"\n",
    "\n",
    "    @property\n",
    "    def isbn(self):\n",
    "        return self.__isbn\n",
    "\n",
    "    @isbn.setter\n",
    "    def isbn(self, new_isbn):\n",
    "        self.__isbn = new_isbn\n",
    "        if new_isbn is not None and isinstance(new_isbn, str):\n",
    "            self.__isbn = new_isbn\n",
    "        else:\n",
    "            raise ValueError(\"invalid\")\n",
    "        "
   ]
  },
  {
   "cell_type": "markdown",
   "id": "2e600677-902e-4fa2-83cc-2ae7a50accdb",
   "metadata": {},
   "source": [
    "<h3>Library Class</h3>"
   ]
  },
  {
   "cell_type": "code",
   "execution_count": 9,
   "id": "53eadb36-2ebc-4379-bf33-ea9c08029ad4",
   "metadata": {},
   "outputs": [],
   "source": [
    "class Library:\n",
    "    def __init__(self, obj):\n",
    "        self.obj = obj\n",
    "        self.entities = {\n",
    "            \"members\": {},\n",
    "            \"books\": {},\n",
    "            \"librarians\": {}\n",
    "        }\n",
    "\n",
    "    def __str__(self):\n",
    "        return str(len(self.entities['members']))\n",
    "    \n",
    "    def add_data(self, obj):\n",
    "        type_ = type(obj).__name__.lower() + \"s\"\n",
    "        self.entities[type_][obj.id_] = obj\n",
    "\n",
    "    @staticmethod\n",
    "    def show_info(data):\n",
    "        for v in data.values():\n",
    "            print(v)\n",
    "        if not data:\n",
    "            print('Empty')\n",
    "\n",
    "    def display(self, obj_type = None):\n",
    "        if obj_type:\n",
    "            obj_type += \"s\"\n",
    "            try:\n",
    "                data = self.entities[obj_type]\n",
    "            except:\n",
    "                print(\"Error\")\n",
    "            else:\n",
    "                print(\"\\n \" + \"_ \" * 10 + obj_type + \"_ \" * 10)\n",
    "        else:\n",
    "            for key, ent in self.entities.items():\n",
    "                print(\"\\n \" + \"_ \" * 10 + key + \"_ \" * 10)\n",
    "                self.show_info(ent)\n",
    "    \n",
    "    def search(self, obj_type, criteria):\n",
    "        try:\n",
    "            data = self.entities[obj_type]\n",
    "        except KeyError:\n",
    "            print(f\"Error: {obj_type} not found\")\n",
    "            return\n",
    "\n",
    "        results = [obj for obj in data.values() if criteria(obj)]\n",
    "\n",
    "        if results:\n",
    "            print(f\"\\nSearch results for {obj_type}:\")\n",
    "            self.show_info({obj.id_: obj for obj in results})\n",
    "        else:\n",
    "            print(f\"No results found for {obj_type}\")\n",
    "                "
   ]
  },
  {
   "cell_type": "markdown",
   "id": "cb10d984-4f3c-4a2f-9273-0c521c8ef56b",
   "metadata": {},
   "source": [
    "<h3>Main</h3>"
   ]
  },
  {
   "cell_type": "code",
   "execution_count": 10,
   "id": "df028e92-5b5a-4288-87cc-5c5160b4d8e1",
   "metadata": {},
   "outputs": [
    {
     "name": "stdout",
     "output_type": "stream",
     "text": [
      "\n",
      " _ _ _ _ _ _ _ _ _ _ members_ _ _ _ _ _ _ _ _ _ \n",
      "Member(Name: hossein, Age: 28, ID: M1002)\n",
      "Member(Name: ali, Age: 23, ID: M1003)\n",
      "\n",
      " _ _ _ _ _ _ _ _ _ _ books_ _ _ _ _ _ _ _ _ _ \n",
      "Book: python by john\n",
      "\n",
      " _ _ _ _ _ _ _ _ _ _ librarians_ _ _ _ _ _ _ _ _ _ \n",
      "Librarian(Name: meisam, Age: 25, ID: L1001)\n"
     ]
    }
   ],
   "source": [
    "if __name__ == \"__main__\":\n",
    "    l = Library('dehkhoda')\n",
    "    li = Librarian('meisam', 25, '1256')\n",
    "    m = Member('hossein', 28, '4589')\n",
    "    m1 = Member('ali', 23, '445459')\n",
    "\n",
    "    b = Book(123, 'python', 'john', '6988-5269-52')\n",
    "\n",
    "    l.add_data(li)\n",
    "    l.add_data(m)\n",
    "    l.add_data(b)\n",
    "    l.add_data(m1)\n",
    "    l.display()\n",
    "\n"
   ]
  },
  {
   "cell_type": "code",
   "execution_count": 14,
   "id": "27f4cd02-6568-4209-83e6-11ae7df37158",
   "metadata": {},
   "outputs": [
    {
     "name": "stdout",
     "output_type": "stream",
     "text": [
      "\n",
      "Search results for members:\n",
      "Member(Name: hossein, Age: 28, ID: M1002)\n"
     ]
    }
   ],
   "source": [
    "l.search('members', lambda member: 'hossein' in member.name)"
   ]
  },
  {
   "cell_type": "code",
   "execution_count": 16,
   "id": "92d4a222-3cc5-4f0f-b842-625be4d1bf72",
   "metadata": {},
   "outputs": [
    {
     "name": "stdout",
     "output_type": "stream",
     "text": [
      "Count of member is: 2\n"
     ]
    }
   ],
   "source": [
    "print(f'Count of member is: {l}')"
   ]
  },
  {
   "cell_type": "code",
   "execution_count": null,
   "id": "a91f2fd0",
   "metadata": {},
   "outputs": [],
   "source": []
  }
 ],
 "metadata": {
  "kernelspec": {
   "display_name": "Python 3 (ipykernel)",
   "language": "python",
   "name": "python3"
  },
  "language_info": {
   "codemirror_mode": {
    "name": "ipython",
    "version": 3
   },
   "file_extension": ".py",
   "mimetype": "text/x-python",
   "name": "python",
   "nbconvert_exporter": "python",
   "pygments_lexer": "ipython3",
   "version": "3.11.5"
  }
 },
 "nbformat": 4,
 "nbformat_minor": 5
}
